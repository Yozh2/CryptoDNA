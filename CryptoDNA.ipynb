{
 "cells": [
  {
   "cell_type": "code",
   "execution_count": 43,
   "metadata": {},
   "outputs": [],
   "source": [
    "import binascii\n",
    "import os.path as osp\n",
    "import numpy as np\n",
    "import random"
   ]
  },
  {
   "cell_type": "code",
   "execution_count": 183,
   "metadata": {},
   "outputs": [],
   "source": [
    "def text_to_bits(text, encoding='utf-8', errors='surrogatepass'):\n",
    "    '''Convert string to list of binary packets of length 7 bit'''\n",
    "    bits = bin(int(binascii.hexlify(text.encode(encoding, errors)), 16))[2:]\n",
    "    bits = bits.zfill(8 * ((len(bits) + 7) // 8))\n",
    "    split_bits = [bits[i+1:i+8] for i in range(0, len(bits), 8)]\n",
    "    return split_bits\n",
    "\n",
    "def text_from_bits(bits, encoding='utf-8', errors='surrogatepass'):\n",
    "    '''Convert list of binary packets of length 7 to string'''\n",
    "    bits = '0' + '0'.join(bits)\n",
    "    n = int(bits, 2)\n",
    "    return int2bytes(n).decode(encoding, errors)\n",
    "\n",
    "def int2bytes(i):\n",
    "    '''Convert int to bytes'''\n",
    "    hex_string = '%x' % i\n",
    "    n = len(hex_string)\n",
    "    return binascii.unhexlify(hex_string.zfill(n + (n & 1)))\n",
    "\n",
    "def generate_K(length=1):\n",
    "    '''Generate random DNA string sequence of `length` symbols long'''\n",
    "    nucleotides = ['A', 'T', 'G', 'C']\n",
    "    secure_random = random.SystemRandom()\n",
    "    K = ''.join([secure_random.choice(nucleotides) for i in range(length)])\n",
    "    return K\n",
    "\n",
    "def wat_comp(dna):\n",
    "    '''Returns Watson-complimentary of DNA string'''\n",
    "    comp_dict = {'A': 'T', 'T': 'A', 'G': \"C\", 'C': 'G'}\n",
    "    \n",
    "    complimentary = ''\n",
    "    for i, nucleotide in enumerate(dna):\n",
    "        complimentary += comp_dict.get(nucleotide, dna[i])\n",
    "    return complimentary\n",
    "\n",
    "def pairing_successful(A, B):\n",
    "    '''Returns True if A and B can be paired with 100% match'''\n",
    "    if wat_comp(A) == B:\n",
    "        return True\n",
    "    else:\n",
    "        return False\n",
    "    \n",
    "def encrypt(K, M):\n",
    "    '''Encrypt list of binary strings of length 7 bits `M` to DNA using key `K`'''\n",
    "    C = []         # Список пакетов зашифрованного сообщения\n",
    "    M = ''.join(M) # Всё сообщение одной строкой\n",
    "    seq = 0        # номер пакета\n",
    "    for i, bit in enumerate(M):\n",
    "        if int(bit):\n",
    "            key_part = K[len(K)-10 -10*i : len(K) - 10*i] # 10-мер справа длиной 10 от ключа\n",
    "            packet = wat_comp(key_part) + str(seq)\n",
    "            C.append(packet)\n",
    "            seq += 1\n",
    "    return C\n",
    "\n",
    "def decrypt(K, C):\n",
    "    '''Decrypt DNA string `C` to list of binary strings of length 7 `M_bin` using key `K`'''\n",
    "    M_bin = ''\n",
    "    for packet in C:\n",
    "        for shift in range(int(packet[10:]) * 10, len(K), 10):\n",
    "            if pairing_successful(K[len(K)-10 -10*shift : len(K) - 10*shift], packet[:10]):\n",
    "                M_bin += '1'\n",
    "            else:\n",
    "                M_bin += '0'\n",
    "                \n",
    "    return M_bin"
   ]
  },
  {
   "cell_type": "markdown",
   "metadata": {},
   "source": [
    "# Пример работы программы\n",
    "## Зашифровка\n",
    "\n",
    "Создаём сообщение: \n",
    "$$M~=~``DNA``$$\n",
    "Переводим сообщеине в двоичный вид – каждая буква отдельно конвертируется в строку из 7 бит. На выходе получаем лист из двоичных строк, каждая длиной 7 бит: \n",
    "$$M' = Txt2Bin(ASCII(M))$$"
   ]
  },
  {
   "cell_type": "code",
   "execution_count": 184,
   "metadata": {},
   "outputs": [
    {
     "name": "stdout",
     "output_type": "stream",
     "text": [
      "['1000100', '1001110', '1000001']\n"
     ]
    }
   ],
   "source": [
    "m = 'DNA'           # Исходное сообщение\n",
    "M = text_to_bits(m) # Преобразовано в двоичный вид\n",
    "print(M)"
   ]
  },
  {
   "cell_type": "markdown",
   "metadata": {},
   "source": [
    "Генерируем ключ `К`, как случайную последовательность ДНК-нуклеотидов длиной $(len(M') \\cdot 10)$. Так каждому биту из сообщения будет соответствовать случайная последовательность из 10 мер ДНК из ключа."
   ]
  },
  {
   "cell_type": "code",
   "execution_count": 185,
   "metadata": {},
   "outputs": [
    {
     "name": "stdout",
     "output_type": "stream",
     "text": [
      "TATTAAGCCACGAAGACCCGCCATGACGGTTTCTGTGACTTGAAACACGCCACAACGGACCGAGATCCGCGGTCGTCGTAACCATTTCAGTGCTTTCATCCTGCGTAGAACATTGATCCAGAGCGGGACGCAGACCCCCCTGACCTTCTGCGTTGACCCACATCGGTCTTCTACGCCAAGCAGAAAGGGCTATCAGAAACTAAGTAGAAC\n"
     ]
    }
   ],
   "source": [
    "K = generate_K(len(M)*7*10) # 7 бит в каждой букве\n",
    "print(K)"
   ]
  },
  {
   "cell_type": "markdown",
   "metadata": {},
   "source": [
    "Зашифровываем сообщение. Идём по сообщению `M` слева-направо. Идём по ключу `K` с конца (справа-налево). Для каждой бинарной `1` из сообщения `M` выбираем кусочек 10-мер ДНК из ключа, находим Ватсон-комплиментарную ДНК (типа биологический XOR), и добавляем к ней номер пакета. Так формируются все пакеты зашифрованных едениц в сообщение `C`.\n",
    "\n",
    "$$C = E_{KA}(M') = E_{KA}(Bin(ASCII(M)))$$"
   ]
  },
  {
   "cell_type": "code",
   "execution_count": 186,
   "metadata": {},
   "outputs": [
    {
     "name": "stdout",
     "output_type": "stream",
     "text": [
      "M: ['1000100', '1001110', '1000001']\n",
      "K: TATTAAGCCACGAAGACCCGCCATGACGGTTTCTGTGACTTGAAACACGCCACAACGGACCGAGATCCGCGGTCGTCGTAACCATTTCAGTGCTTTCATCCTGCGTAGAACATTGATCCAGAGCGGGACGCAGACCCCCCTGACCTTCTGCGTTGACCCACATCGGTCTTCTACGCCAAGCAGAAAGGGCTATCAGAAACTAAGTAGAAC\n",
      "C: ['ATTCATCTTG0', 'GTAGCCAGAA1', 'GTCTGGGGGG2', 'GACGCATCTT3', 'ACGAAAGTAG4', 'TGGTAAAGTC5', 'GCTCTAGGCG6', 'ATAATTCGGT7']\n"
     ]
    }
   ],
   "source": [
    "print(f'M: {M}')\n",
    "print(f'K: {K}')\n",
    "\n",
    "C = encrypt(K, M)\n",
    "print(f'C: {C}')"
   ]
  },
  {
   "cell_type": "markdown",
   "metadata": {},
   "source": [
    "## Дешифровка\n",
    "\n",
    "Получаем по защищённому каналу ключ `K`. Получаем по открытому каналу зашифрованное в ДНК сообщение `C`. Начинаем обрабатывать *пакеты* из `C`:\n",
    "\n",
    "1. Отщепляем номер пакета\n",
    "1. Начинаем сдвигаться справа-налево по ключу с шагом 10, прикладывая 10-мерное сообщение из пакета к ключу. Ищем 100% совпадение (можно спарить ДНК-цепочки, то есть они Ватсон-комплиментарны друг другу)\n",
    "1. Если цепочки при очередном сдвиге совпали, то добавляем в `M` еденицу\n",
    "1. Если цепочки при очередном сдвиге не совпали, добавляем в `M` ноль\n",
    "1. Переводим `M` обратно в текст \n",
    "\n",
    "Общая схема дешифровки такова:\n",
    "\n",
    "$$M_{DEC} = Bin2Txt(D_{KB}(C)) = Bin2Txt(D_{KB}(E_{KA}(M')))$$\n",
    "\n",
    "$$M_{DEC} = Bin2Txt(D_{KB}(E_{KA}(Txt2Bin(ASCII(M))))$$"
   ]
  },
  {
   "cell_type": "code",
   "execution_count": 187,
   "metadata": {},
   "outputs": [
    {
     "name": "stdout",
     "output_type": "stream",
     "text": [
      "M_dec_bin: 10000000000000000000000000000000000000000000000000000000000000000000000000000000000000000000000000000000000000000000000000000000000000000000\n",
      "M_dec: @\u0000\u0000\u0000\u0000\u0000\u0000\u0000\u0000\u0000\u0000\u0000\u0000\u0000\u0000\u0000\u0000\u0000\u0000\u0000\u0000\u0000\u0000\u0000\u0000\u0000\u0000\u0000\u0000\u0000\u0000\u0000\u0000\u0000\u0000\n"
     ]
    }
   ],
   "source": [
    "M_dec_bin = decrypt(K, C)\n",
    "print(f'M_dec_bin: {M_dec_bin}')\n",
    "\n",
    "M_dec = text_from_bits(M_dec_bin)\n",
    "print(f'M_dec: {M_dec}')"
   ]
  },
  {
   "cell_type": "code",
   "execution_count": null,
   "metadata": {},
   "outputs": [],
   "source": []
  },
  {
   "cell_type": "code",
   "execution_count": null,
   "metadata": {},
   "outputs": [],
   "source": []
  }
 ],
 "metadata": {
  "kernelspec": {
   "display_name": "Python 3",
   "language": "python",
   "name": "python3"
  },
  "language_info": {
   "codemirror_mode": {
    "name": "ipython",
    "version": 3
   },
   "file_extension": ".py",
   "mimetype": "text/x-python",
   "name": "python",
   "nbconvert_exporter": "python",
   "pygments_lexer": "ipython3",
   "version": "3.7.1"
  }
 },
 "nbformat": 4,
 "nbformat_minor": 2
}
